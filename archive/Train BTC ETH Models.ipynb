{
 "cells": [
  {
   "cell_type": "markdown",
   "id": "1824fe04-4056-4405-8cec-3d72effa7dc8",
   "metadata": {},
   "source": [
    "# Bitcoin Risk "
   ]
  },
  {
   "cell_type": "markdown",
   "id": "34ec6336-6209-4ad2-aa4b-3227c68ac637",
   "metadata": {},
   "source": [
    "## Training Models on pre 2024 data"
   ]
  },
  {
   "cell_type": "code",
   "execution_count": 18,
   "id": "acc20f83-98c9-4364-9aa8-29ae38b94350",
   "metadata": {},
   "outputs": [
    {
     "name": "stdout",
     "output_type": "stream",
     "text": [
      "{'log_MA100_extension': NormalDistributionModel(model=<scipy.stats._distn_infrastructure.rv_continuous_frozen object at 0x7f980d5ed4b0>, mu=0.44150933437107576, var=0.47488241153789595), 'log_MA50_extension': NormalDistributionModel(model=<scipy.stats._distn_infrastructure.rv_continuous_frozen object at 0x7f980d804460>, mu=0.30930996419145135, var=0.413728593540701), 'log_EMA21_extension': NormalDistributionModel(model=<scipy.stats._distn_infrastructure.rv_continuous_frozen object at 0x7f980d804ca0>, mu=0.11823431432705257, var=0.12532238065550633), 'log_MA20_extension': NormalDistributionModel(model=<scipy.stats._distn_infrastructure.rv_continuous_frozen object at 0x7f980d7f8fa0>, mu=0.13766942034416876, var=0.17724488870430927), 'log_MA8_extension': NormalDistributionModel(model=<scipy.stats._distn_infrastructure.rv_continuous_frozen object at 0x7f980d7f8a00>, mu=0.06088027590894481, var=0.06409398015891925)}\n"
     ]
    },
    {
     "name": "stderr",
     "output_type": "stream",
     "text": [
      "/home/brad/workspace/autotrader/logic/normal.py:28: RuntimeWarning: divide by zero encountered in log\n",
      "  - (n / 2) * np.log(var)\n",
      "/home/brad/workspace/autotrader/logic/normal.py:29: RuntimeWarning: divide by zero encountered in scalar divide\n",
      "  - (1 / (2 * var) * sum((x - mu) ** 2))\n",
      "/home/brad/workspace/autotrader/logic/normal.py:27: RuntimeWarning: invalid value encountered in scalar subtract\n",
      "  -(n / 2) * np.log(2 * np.pi)\n"
     ]
    }
   ],
   "source": [
    "# get btc daily data\n",
    "from logic.get import read_data\n",
    "\n",
    "data = read_data(\"BTC\", \"1D\")\n",
    "data.ffill(inplace=True)\n",
    "data\n",
    "\n",
    "# create features\n",
    "from logic.features import log_close_sma_extension\n",
    "\n",
    "processed_data = log_close_sma_extension(data)\n",
    "processed_data\n",
    "\n",
    "# Train risk models using pre 2020 data\n",
    "from datetime import datetime\n",
    "import re\n",
    "\n",
    "from logic.normal import normal_distribution_model\n",
    "\n",
    "train_X = processed_data.loc[processed_data.DateTime < datetime(2024, 1, 1)].copy(deep=True)\n",
    "\n",
    "regex = r\"^log_[A-Z]{2,3}[0-9]{1,3}_extension$\"\n",
    "log_ma_extension_features = [f for f in train_X.columns if re.match(regex, f)]\n",
    "model_dictionary = {}\n",
    "\n",
    "for log_ma in log_ma_extension_features:\n",
    "    regex =  r\"[A-Z]{2,3}[0-9]{1,3}\"\n",
    "    _match = re.search(regex, log_ma)\n",
    "    #_data[f\"risk_{ma}\"] = risk_metric(_data[log_ma])\n",
    "    model_dictionary[log_ma] = normal_distribution_model(train_X[log_ma])\n",
    "\n",
    "print(model_dictionary)\n",
    "\n",
    "# Save models as pickles\n",
    "import pickle\n",
    "\n",
    "with open(\"BTC Risk Models\", \"wb\") as handle:\n",
    "    pickle.dump(model_dictionary, handle, protocol = pickle.HIGHEST_PROTOCOL)"
   ]
  },
  {
   "cell_type": "markdown",
   "id": "80ee96a8-2ce5-4723-ba74-a524e1c50d7d",
   "metadata": {},
   "source": [
    "## Running New Data Through Existing Models"
   ]
  },
  {
   "cell_type": "code",
   "execution_count": 19,
   "id": "832d046d-db69-495a-82ca-dc65b1a1ffe5",
   "metadata": {},
   "outputs": [
    {
     "data": {
      "text/plain": [
       "DateTime               2024-01-22 00:00:00\n",
       "open                              41583.43\n",
       "high                              42220.44\n",
       "low                                38524.0\n",
       "close                             41877.92\n",
       "Volume                       138866.037795\n",
       "Volume MA                    139454.358936\n",
       "MA100                           28029.0784\n",
       "MA50                            31047.2492\n",
       "EMA21                         37410.452921\n",
       "MA20                            36348.6315\n",
       "MA8                              42448.335\n",
       "RSI                              67.071971\n",
       "RSI MA                           73.396673\n",
       "ATR1                               3696.44\n",
       "ATR14                          3924.658571\n",
       "log_MA100_extension               0.401516\n",
       "log_MA50_extension                0.299249\n",
       "log_EMA21_extension               0.112809\n",
       "log_MA20_extension                0.141602\n",
       "log_MA8_extension                -0.013529\n",
       "risk_MA100                         0.49823\n",
       "risk_MA50                         0.499852\n",
       "risk_EMA21                        0.499532\n",
       "risk_MA20                         0.500123\n",
       "risk_MA8                          0.254861\n",
       "combined_risk                     0.438267\n",
       "Name: 738, dtype: object"
      ]
     },
     "execution_count": 19,
     "metadata": {},
     "output_type": "execute_result"
    }
   ],
   "source": [
    "import pickle\n",
    "\n",
    "with open(\"BTC Risk Models\", \"rb\") as handle:\n",
    "    _model_dictionary = pickle.load(handle)\n",
    "\n",
    "# get btc weekly data 2020 onwards\n",
    "_data = read_data(\"BTC\", \"1W\")\n",
    "_processed_data = log_close_sma_extension(_data)\n",
    "test_X = _processed_data.iloc[-1,:].copy(deep=True)\n",
    "\n",
    "# calculate risk\n",
    "import numpy as np\n",
    "\n",
    "\n",
    "for log_ma in log_ma_extension_features:\n",
    "    regex =  r\"[A-Z]{2,3}[0-9]{1,3}\"\n",
    "    _match = re.search(regex, log_ma)\n",
    "    ma = _match.group(0)\n",
    "    x = test_X[log_ma]\n",
    "    pdf_data = _model_dictionary[log_ma].model.pdf(x)\n",
    "    normalised_pdf_data = pdf_data / _model_dictionary[log_ma].model.pdf(_model_dictionary[log_ma].mu)\n",
    "    factor = np.empty_like(np.array(x))\n",
    "    if x > _model_dictionary[log_ma].mu:\n",
    "        factor = 1\n",
    "    else:\n",
    "        factor = -1\n",
    "    test_X[f\"risk_{ma}\"] = 0.5 + (factor * (1 - normalised_pdf_data) * 0.5)\n",
    "\n",
    "test_X[\"combined_risk\"] = (\n",
    "        test_X[\"risk_EMA21\"] \n",
    "        + test_X[\"risk_MA50\"] \n",
    "        + test_X[\"risk_MA20\"]\n",
    "        + test_X[\"risk_MA8\"]\n",
    "    ) / 4\n",
    "\n",
    "test_X"
   ]
  },
  {
   "cell_type": "markdown",
   "id": "d02a4f6a-44f5-4cd6-849f-2f3f5808582c",
   "metadata": {},
   "source": [
    "# Ethereum Risk\n",
    "## Training Models on pre 2024 data"
   ]
  },
  {
   "cell_type": "code",
   "execution_count": 28,
   "id": "e82ae51d-8541-4767-a7da-0a83197681c9",
   "metadata": {},
   "outputs": [
    {
     "name": "stdout",
     "output_type": "stream",
     "text": [
      "{'log_MA100_extension': NormalDistributionModel(model=<scipy.stats._distn_infrastructure.rv_continuous_frozen object at 0x7f980d7c0df0>, mu=0.2474121666138357, var=0.7793789406245433), 'log_MA50_extension': NormalDistributionModel(model=<scipy.stats._distn_infrastructure.rv_continuous_frozen object at 0x7f980d595990>, mu=0.18783792212198896, var=0.46449107651352606), 'log_EMA21_extension': NormalDistributionModel(model=<scipy.stats._distn_infrastructure.rv_continuous_frozen object at 0x7f980d7c0310>, mu=0.08536350814886386, var=0.13383488730070298), 'log_MA20_extension': NormalDistributionModel(model=<scipy.stats._distn_infrastructure.rv_continuous_frozen object at 0x7f980d7c28f0>, mu=0.1132855040708293, var=0.17793296439994105), 'log_MA8_extension': NormalDistributionModel(model=<scipy.stats._distn_infrastructure.rv_continuous_frozen object at 0x7f980d7fa4d0>, mu=0.04132221387885157, var=0.061541663615807214)}\n"
     ]
    },
    {
     "name": "stderr",
     "output_type": "stream",
     "text": [
      "/home/brad/workspace/autotrader/logic/normal.py:28: RuntimeWarning: divide by zero encountered in log\n",
      "  - (n / 2) * np.log(var)\n",
      "/home/brad/workspace/autotrader/logic/normal.py:29: RuntimeWarning: divide by zero encountered in scalar divide\n",
      "  - (1 / (2 * var) * sum((x - mu) ** 2))\n",
      "/home/brad/workspace/autotrader/logic/normal.py:27: RuntimeWarning: invalid value encountered in scalar subtract\n",
      "  -(n / 2) * np.log(2 * np.pi)\n"
     ]
    }
   ],
   "source": [
    "# get eth daily data\n",
    "from logic.get import read_data\n",
    "\n",
    "data = read_data(\"ETH\", \"1W\")\n",
    "data.ffill(inplace=True)\n",
    "data\n",
    "\n",
    "# create features\n",
    "from logic.features import log_close_sma_extension\n",
    "\n",
    "processed_data = log_close_sma_extension(data)\n",
    "processed_data\n",
    "\n",
    "# Train risk models using pre 2020 data\n",
    "from datetime import datetime\n",
    "import re\n",
    "\n",
    "from logic.normal import normal_distribution_model\n",
    "\n",
    "train_X = processed_data.loc[processed_data.DateTime < datetime(2024, 1, 1)].copy(deep=True)\n",
    "\n",
    "regex = r\"^log_[A-Z]{2,3}[0-9]{1,3}_extension$\"\n",
    "log_ma_extension_features = [f for f in train_X.columns if re.match(regex, f)]\n",
    "model_dictionary = {}\n",
    "\n",
    "for log_ma in log_ma_extension_features:\n",
    "    regex =  r\"[A-Z]{2,3}[0-9]{1,3}\"\n",
    "    _match = re.search(regex, log_ma)\n",
    "    #_data[f\"risk_{ma}\"] = risk_metric(_data[log_ma])\n",
    "    model_dictionary[log_ma] = normal_distribution_model(train_X[log_ma])\n",
    "\n",
    "print(model_dictionary)\n",
    "\n",
    "# Save models as pickles\n",
    "import pickle\n",
    "\n",
    "with open(\"ETH Risk Models\", \"wb\") as handle:\n",
    "    pickle.dump(model_dictionary, handle, protocol = pickle.HIGHEST_PROTOCOL)"
   ]
  },
  {
   "cell_type": "markdown",
   "id": "6f58114a-ded4-48ae-9caf-df2c34155267",
   "metadata": {},
   "source": [
    "## Running New Data Through Existing Models"
   ]
  },
  {
   "cell_type": "code",
   "execution_count": 30,
   "id": "298df01c-a2a9-4942-bccb-01c5c36b1af8",
   "metadata": {},
   "outputs": [
    {
     "data": {
      "text/plain": [
       "DateTime               2024-01-29 00:00:00\n",
       "open                               2256.93\n",
       "high                               2381.03\n",
       "low                                2233.92\n",
       "close                              2369.64\n",
       "Volume                       181114.252951\n",
       "Volume MA                    939567.911394\n",
       "MA100                            1817.3691\n",
       "MA50                              1898.865\n",
       "EMA21                          2122.113497\n",
       "MA20                              2052.383\n",
       "MA8                             2315.00375\n",
       "RSI                              61.819428\n",
       "RSI MA                           64.244169\n",
       "ATR1                                147.11\n",
       "ATR14                              260.635\n",
       "log_MA100_extension               0.265348\n",
       "log_MA50_extension                0.221482\n",
       "log_EMA21_extension               0.110326\n",
       "log_MA20_extension                0.143736\n",
       "log_MA8_extension                 0.023327\n",
       "risk_MA100                        0.500132\n",
       "risk_MA50                          0.50131\n",
       "risk_EMA21                        0.508622\n",
       "risk_MA20                         0.507269\n",
       "risk_MA8                          0.479074\n",
       "combined_risk                      0.49611\n",
       "Name: 443, dtype: object"
      ]
     },
     "execution_count": 30,
     "metadata": {},
     "output_type": "execute_result"
    }
   ],
   "source": [
    "import pickle\n",
    "\n",
    "with open(\"ETH Risk Models\", \"rb\") as handle:\n",
    "    _model_dictionary = pickle.load(handle)\n",
    "\n",
    "# get btc weekly data 2020 onwards\n",
    "_data = read_data(\"ETH\", \"1W\")\n",
    "_processed_data = log_close_sma_extension(_data)\n",
    "test_X = _processed_data.iloc[-1,:].copy(deep=True)\n",
    "\n",
    "# calculate risk\n",
    "import numpy as np\n",
    "\n",
    "\n",
    "for log_ma in log_ma_extension_features:\n",
    "    regex =  r\"[A-Z]{2,3}[0-9]{1,3}\"\n",
    "    _match = re.search(regex, log_ma)\n",
    "    ma = _match.group(0)\n",
    "    x = test_X[log_ma]\n",
    "    pdf_data = _model_dictionary[log_ma].model.pdf(x)\n",
    "    normalised_pdf_data = pdf_data / _model_dictionary[log_ma].model.pdf(_model_dictionary[log_ma].mu)\n",
    "    factor = np.empty_like(np.array(x))\n",
    "    if x > _model_dictionary[log_ma].mu:\n",
    "        factor = 1\n",
    "    else:\n",
    "        factor = -1\n",
    "    test_X[f\"risk_{ma}\"] = 0.5 + (factor * (1 - normalised_pdf_data) * 0.5)\n",
    "\n",
    "test_X[\"combined_risk\"] = (\n",
    "        (0.5*test_X[\"risk_EMA21\"]) \n",
    "        + test_X[\"risk_MA50\"] \n",
    "        + (0.5*test_X[\"risk_MA20\"])\n",
    "        + test_X[\"risk_MA8\"]\n",
    "    ) / 3\n",
    "\n",
    "test_X"
   ]
  },
  {
   "cell_type": "code",
   "execution_count": null,
   "id": "d70905fc-f154-41ea-9401-c494f5187cc9",
   "metadata": {},
   "outputs": [],
   "source": []
  }
 ],
 "metadata": {
  "kernelspec": {
   "display_name": "Python 3 (ipykernel)",
   "language": "python",
   "name": "python3"
  },
  "language_info": {
   "codemirror_mode": {
    "name": "ipython",
    "version": 3
   },
   "file_extension": ".py",
   "mimetype": "text/x-python",
   "name": "python",
   "nbconvert_exporter": "python",
   "pygments_lexer": "ipython3",
   "version": "3.10.12"
  }
 },
 "nbformat": 4,
 "nbformat_minor": 5
}
